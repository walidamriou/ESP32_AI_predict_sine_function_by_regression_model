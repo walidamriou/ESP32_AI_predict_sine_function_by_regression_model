{
  "nbformat": 4,
  "nbformat_minor": 0,
  "metadata": {
    "colab": {
      "name": "ESP32_AI_predict_sine_function_by_regression_model.ipynb",
      "provenance": [],
      "authorship_tag": "ABX9TyP/8gFFblhLqQuXg6jnbayc"
    },
    "kernelspec": {
      "name": "python3",
      "display_name": "Python 3"
    }
  },
  "cells": [
    {
      "cell_type": "code",
      "metadata": {
        "id": "8qGm4uo8sKnW",
        "colab_type": "code",
        "colab": {
          "base_uri": "https://localhost:8080/",
          "height": 102
        },
        "outputId": "12a328c6-ad71-4287-9c72-038c3855dd90"
      },
      "source": [
        "%tensorflow_version 2.1"
      ],
      "execution_count": 5,
      "outputs": [
        {
          "output_type": "stream",
          "text": [
            "`%tensorflow_version` only switches the major version: 1.x or 2.x.\n",
            "You set: `2.1`. This will be interpreted as: `2.x`.\n",
            "\n",
            "\n",
            "TensorFlow 2.x selected.\n"
          ],
          "name": "stdout"
        }
      ]
    },
    {
      "cell_type": "code",
      "metadata": {
        "id": "2GYX1cfWsO95",
        "colab_type": "code",
        "colab": {}
      },
      "source": [
        "import tensorflow as tf\n",
        "import numpy as np\n",
        "import matplotlib.pyplot as plt\n",
        "import math\n",
        "from tensorflow.keras import layers"
      ],
      "execution_count": 7,
      "outputs": []
    },
    {
      "cell_type": "code",
      "metadata": {
        "id": "qaaAfyWIsTfg",
        "colab_type": "code",
        "colab": {
          "base_uri": "https://localhost:8080/",
          "height": 119
        },
        "outputId": "7fcd7423-579b-4487-8ad7-96684520b5cb"
      },
      "source": [
        "# Print versions\n",
        "!python --versions\n",
        "print('Numpy ' + np.__version__)\n",
        "print('TensorFlow ' + tf.__version__)\n",
        "print('Keras ' + tf.keras.__version__)"
      ],
      "execution_count": 8,
      "outputs": [
        {
          "output_type": "stream",
          "text": [
            "Unknown option: --\n",
            "usage: python3 [option] ... [-c cmd | -m mod | file | -] [arg] ...\n",
            "Try `python -h' for more information.\n",
            "Numpy 1.18.5\n",
            "TensorFlow 2.3.0\n",
            "Keras 2.4.0\n"
          ],
          "name": "stdout"
        }
      ]
    },
    {
      "cell_type": "code",
      "metadata": {
        "id": "cpb8hU2SsZ9s",
        "colab_type": "code",
        "colab": {
          "base_uri": "https://localhost:8080/",
          "height": 282
        },
        "outputId": "169fddeb-6f53-4675-e00a-1e9498a66a9d"
      },
      "source": [
        "# Number of samples to use as a dataset\n",
        "nsamples = 5000    \n",
        "# Percentage of samples of validation set\n",
        "val_ratio = 0.2     \n",
        "# Percentage of samples of test set\n",
        "test_ratio = 0.2  \n",
        "# Will be given .tflite suffix\n",
        "tflite_model_name = 'sine_model'  \n",
        "# Will be given .h suffix\n",
        "c_model_name = 'sine_model' \n",
        "\n",
        "# Generate some random samples\n",
        "# All the random numbers generated after setting particular seed value are same across all the platforms/systems.\n",
        "np.random.seed(1234)\n",
        "# Generate samples between [0, 2pi]\n",
        "x_values = np.random.uniform(low=0, high=(2 * math.pi), size=nsamples)\n",
        "# Print x_values \n",
        "plt.plot(x_values)"
      ],
      "execution_count": 9,
      "outputs": [
        {
          "output_type": "execute_result",
          "data": {
            "text/plain": [
              "[<matplotlib.lines.Line2D at 0x7f0e17977860>]"
            ]
          },
          "metadata": {
            "tags": []
          },
          "execution_count": 9
        },
        {
          "output_type": "display_data",
          "data": {
            "image/png": "[encoded data removed]",
            "text/plain": [
              "<Figure size 432x288 with 1 Axes>"
            ]
          },
          "metadata": {
            "tags": [],
            "needs_background": "light"
          }
        }
      ]
    }
  ]
}